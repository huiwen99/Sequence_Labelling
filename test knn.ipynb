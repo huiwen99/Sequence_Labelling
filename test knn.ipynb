{
 "cells": [
  {
   "cell_type": "code",
   "execution_count": 172,
   "metadata": {},
   "outputs": [],
   "source": [
    "from sklearn.neighbors import KNeighborsClassifier\n",
    "import numpy as np\n",
    "import pandas as pd\n",
    "from sklearn.model_selection import train_test_split"
   ]
  },
  {
   "cell_type": "code",
   "execution_count": 173,
   "metadata": {},
   "outputs": [],
   "source": [
    "classifier = KNeighborsClassifier(n_neighbors=5)"
   ]
  },
  {
   "cell_type": "code",
   "execution_count": 174,
   "metadata": {},
   "outputs": [],
   "source": [
    "def get_file(filename):\n",
    "    f = open(filename, 'r', encoding='utf8')\n",
    "    lines = f.readlines()\n",
    "\n",
    "    words = []\n",
    "    tags = []\n",
    "\n",
    "    for line in lines:\n",
    "        if len(line) != 1:\n",
    "            word, tag = line.split()\n",
    "            words.append(word)\n",
    "            tags.append(tag)\n",
    "\n",
    "    words = np.array(words)\n",
    "    tags = np.array(tags)\n",
    "    df = pd.DataFrame({'words': words, 'tags': tags}, columns=['words', 'tags'])\n",
    "\n",
    "    f.close()\n",
    "    return df"
   ]
  },
  {
   "cell_type": "code",
   "execution_count": 175,
   "metadata": {},
   "outputs": [],
   "source": [
    "df = get_file(\"./EN/train\")"
   ]
  },
  {
   "cell_type": "code",
   "execution_count": 176,
   "metadata": {},
   "outputs": [],
   "source": [
    "x = df['words'].values\n",
    "y = df['tags'].values"
   ]
  },
  {
   "cell_type": "code",
   "execution_count": 177,
   "metadata": {},
   "outputs": [],
   "source": [
    "dic = {}\n",
    "i=0\n",
    "for word in x:\n",
    "    if word not in dic:\n",
    "        dic[word]=i\n",
    "        i+=1"
   ]
  },
  {
   "cell_type": "code",
   "execution_count": 178,
   "metadata": {},
   "outputs": [
    {
     "data": {
      "text/plain": [
       "18212"
      ]
     },
     "execution_count": 178,
     "metadata": {},
     "output_type": "execute_result"
    }
   ],
   "source": [
    "len(dic)"
   ]
  },
  {
   "cell_type": "code",
   "execution_count": 179,
   "metadata": {},
   "outputs": [],
   "source": [
    "X_train = []\n",
    "for word in x:\n",
    "    pos = dic[word]\n",
    "    X_train.append(pos)\n",
    "X_train = np.array(X_train)\n",
    "X_train = X_train.reshape(X_train.shape[0],1)"
   ]
  },
  {
   "cell_type": "code",
   "execution_count": 180,
   "metadata": {},
   "outputs": [
    {
     "data": {
      "text/plain": [
       "(181628, 1)"
      ]
     },
     "execution_count": 180,
     "metadata": {},
     "output_type": "execute_result"
    }
   ],
   "source": [
    "X_train.shape"
   ]
  },
  {
   "cell_type": "code",
   "execution_count": 181,
   "metadata": {},
   "outputs": [],
   "source": [
    "X_train, X_unknown, y_train, y_test = train_test_split(X_train, y, test_size=0.1)"
   ]
  },
  {
   "cell_type": "code",
   "execution_count": 182,
   "metadata": {},
   "outputs": [],
   "source": [
    "X_unknown.fill(len(dic))"
   ]
  },
  {
   "cell_type": "code",
   "execution_count": 183,
   "metadata": {},
   "outputs": [],
   "source": [
    "X_train_new = np.concatenate((X_train, X_unknown),axis=0)\n",
    "y_train_new = np.concatenate((y_train, y_test), axis=0)"
   ]
  },
  {
   "cell_type": "code",
   "execution_count": null,
   "metadata": {},
   "outputs": [],
   "source": []
  },
  {
   "cell_type": "code",
   "execution_count": 184,
   "metadata": {},
   "outputs": [
    {
     "data": {
      "text/plain": [
       "KNeighborsClassifier()"
      ]
     },
     "execution_count": 184,
     "metadata": {},
     "output_type": "execute_result"
    }
   ],
   "source": [
    "classifier.fit(X_train_new, y_train_new)"
   ]
  },
  {
   "cell_type": "code",
   "execution_count": 224,
   "metadata": {},
   "outputs": [],
   "source": [
    "def test(in_file, out_file):\n",
    "    f_in = open(in_file, 'r', encoding=\"utf-8\")\n",
    "    f_out = open(out_file, 'w', encoding=\"utf-8\")\n",
    "    \n",
    "    lines = f_in.readlines()\n",
    "    for line in lines:\n",
    "        if line != '\\n':\n",
    "            new_word = line.strip()\n",
    "            if new_word not in dic:\n",
    "                i = np.array([len(dic)-1])\n",
    "            else:\n",
    "                i = np.array([dic[new_word]])\n",
    "            i = i.reshape(1,1)\n",
    "            pred = classifier.predict(i)[0]\n",
    "            f_out.write(\"{} {}\\n\".format(new_word, pred))\n",
    "        else:\n",
    "            f_out.write(\"\\n\")\n",
    "    \n",
    "    f_in.close()\n",
    "    f_out.close()"
   ]
  },
  {
   "cell_type": "code",
   "execution_count": 225,
   "metadata": {},
   "outputs": [],
   "source": [
    "test('./EN/dev.in','test.txt')"
   ]
  },
  {
   "cell_type": "code",
   "execution_count": 203,
   "metadata": {},
   "outputs": [],
   "source": [
    "new_word = ','\n",
    "if new_word not in dic:\n",
    "    i = np.array([len(dic)-1])\n",
    "else:\n",
    "    i = np.array([dic[new_word]])"
   ]
  },
  {
   "cell_type": "code",
   "execution_count": 204,
   "metadata": {},
   "outputs": [],
   "source": [
    "i = i.reshape(1,1)"
   ]
  },
  {
   "cell_type": "code",
   "execution_count": 210,
   "metadata": {},
   "outputs": [
    {
     "data": {
      "text/plain": [
       "'O'"
      ]
     },
     "execution_count": 210,
     "metadata": {},
     "output_type": "execute_result"
    }
   ],
   "source": [
    "classifier.predict(i)[0]"
   ]
  },
  {
   "cell_type": "code",
   "execution_count": null,
   "metadata": {},
   "outputs": [],
   "source": []
  },
  {
   "cell_type": "code",
   "execution_count": null,
   "metadata": {},
   "outputs": [],
   "source": []
  }
 ],
 "metadata": {
  "kernelspec": {
   "display_name": "Python 3",
   "language": "python",
   "name": "python3"
  },
  "language_info": {
   "codemirror_mode": {
    "name": "ipython",
    "version": 3
   },
   "file_extension": ".py",
   "mimetype": "text/x-python",
   "name": "python",
   "nbconvert_exporter": "python",
   "pygments_lexer": "ipython3",
   "version": "3.7.7"
  }
 },
 "nbformat": 4,
 "nbformat_minor": 4
}
